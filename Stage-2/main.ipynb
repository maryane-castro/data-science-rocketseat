{
 "cells": [
  {
   "cell_type": "code",
   "execution_count": null,
   "metadata": {},
   "outputs": [],
   "source": [
    "! pip install pandas matplotlib"
   ]
  },
  {
   "cell_type": "code",
   "execution_count": 3,
   "metadata": {},
   "outputs": [],
   "source": [
    "import pandas as pd\n",
    "import matplotlib as plt"
   ]
  },
  {
   "cell_type": "code",
   "execution_count": 29,
   "metadata": {},
   "outputs": [],
   "source": [
    "df_customers = pd.read_csv('./datasets/churn_customers.csv') #clientes\n",
    "df_services = pd.read_csv('./datasets/churn_services.csv') #serviços\n",
    "df_contracts = pd.read_csv('./datasets/churn_contracts.csv') #contratos\n",
    "\n",
    "list = [df_customers, df_services, df_contracts]"
   ]
  },
  {
   "cell_type": "markdown",
   "metadata": {},
   "source": []
  },
  {
   "cell_type": "code",
   "execution_count": 36,
   "metadata": {},
   "outputs": [
    {
     "name": "stdout",
     "output_type": "stream",
     "text": [
      "   customerID  gender  SeniorCitizen Partner Dependents\n",
      "0  7590-VHVEG  Female              0     Yes         No\n",
      "1  5575-GNVDE    Male              0      No         No\n",
      "2  3668-QPYBK    Male              0      No         No\n",
      "3  7795-CFOCW    Male              0      No         No\n",
      "4  9237-HQITU  Female              0      No         No \n",
      "\n",
      "\n",
      "   customerID PhoneService     MultipleLines InternetService OnlineSecurity  \\\n",
      "0  7590-VHVEG           No  No phone service             DSL             No   \n",
      "1  5575-GNVDE          Yes                No             DSL            Yes   \n",
      "2  3668-QPYBK          Yes                No             DSL            Yes   \n",
      "3  7795-CFOCW           No  No phone service             DSL            Yes   \n",
      "4  9237-HQITU          Yes                No     Fiber optic             No   \n",
      "\n",
      "  OnlineBackup DeviceProtection TechSupport StreamingTV StreamingMovies  \n",
      "0          Yes               No          No          No              No  \n",
      "1           No              Yes          No          No              No  \n",
      "2          Yes               No          No          No              No  \n",
      "3           No              Yes         Yes          No              No  \n",
      "4           No               No          No          No              No   \n",
      "\n",
      "\n",
      "   customerID  tenure        Contract PaperlessBilling  \\\n",
      "0  7590-VHVEG       1  Month-to-month              Yes   \n",
      "1  5575-GNVDE      34        One year               No   \n",
      "2  3668-QPYBK       2  Month-to-month              Yes   \n",
      "3  7795-CFOCW      45        One year               No   \n",
      "4  9237-HQITU       2  Month-to-month              Yes   \n",
      "\n",
      "               PaymentMethod  MonthlyCharges TotalCharges Churn  \n",
      "0           Electronic check           29.85        29.85    No  \n",
      "1               Mailed check           56.95       1889.5    No  \n",
      "2               Mailed check           53.85       108.15   Yes  \n",
      "3  Bank transfer (automatic)           42.30      1840.75    No  \n",
      "4           Electronic check           70.70       151.65   Yes   \n",
      "\n",
      "\n",
      "      customerID  gender  SeniorCitizen Partner Dependents\n",
      "7038  6840-RESVB    Male              0     Yes        Yes\n",
      "7039  2234-XADUH  Female              0     Yes        Yes\n",
      "7040  4801-JZAZL  Female              0     Yes        Yes\n",
      "7041  8361-LTMKD    Male              1     Yes         No\n",
      "7042  3186-AJIEK    Male              0      No         No \n",
      "\n",
      "\n",
      "      customerID PhoneService     MultipleLines InternetService  \\\n",
      "7038  6840-RESVB          Yes               Yes             DSL   \n",
      "7039  2234-XADUH          Yes               Yes     Fiber optic   \n",
      "7040  4801-JZAZL           No  No phone service             DSL   \n",
      "7041  8361-LTMKD          Yes               Yes     Fiber optic   \n",
      "7042  3186-AJIEK          Yes                No     Fiber optic   \n",
      "\n",
      "     OnlineSecurity OnlineBackup DeviceProtection TechSupport StreamingTV  \\\n",
      "7038            Yes           No              Yes         Yes         Yes   \n",
      "7039             No          Yes              Yes          No         Yes   \n",
      "7040            Yes           No               No          No          No   \n",
      "7041             No           No               No          No          No   \n",
      "7042            Yes           No              Yes         Yes         Yes   \n",
      "\n",
      "     StreamingMovies  \n",
      "7038             Yes  \n",
      "7039             Yes  \n",
      "7040              No  \n",
      "7041              No  \n",
      "7042             Yes   \n",
      "\n",
      "\n",
      "      customerID  tenure        Contract PaperlessBilling  \\\n",
      "7038  6840-RESVB      24        One year              Yes   \n",
      "7039  2234-XADUH      72        One year              Yes   \n",
      "7040  4801-JZAZL      11  Month-to-month              Yes   \n",
      "7041  8361-LTMKD       4  Month-to-month              Yes   \n",
      "7042  3186-AJIEK      66        Two year              Yes   \n",
      "\n",
      "                  PaymentMethod  MonthlyCharges TotalCharges Churn  \n",
      "7038               Mailed check           84.80       1990.5    No  \n",
      "7039    Credit card (automatic)          103.20       7362.9    No  \n",
      "7040           Electronic check           29.60       346.45    No  \n",
      "7041               Mailed check           74.40        306.6   Yes  \n",
      "7042  Bank transfer (automatic)          105.65       6844.5    No   \n",
      "\n",
      "\n"
     ]
    }
   ],
   "source": [
    "for n in range(len(list)):\n",
    "    print(list[n].head(), '\\n'*2)\n",
    "\n",
    "for n in range(len(list)):\n",
    "    print(list[n].tail(), '\\n'*2)"
   ]
  },
  {
   "cell_type": "code",
   "execution_count": null,
   "metadata": {},
   "outputs": [],
   "source": [
    "df_customers.head()\n",
    "df_customers.tail()\n",
    "df_customers.info()"
   ]
  },
  {
   "cell_type": "code",
   "execution_count": null,
   "metadata": {},
   "outputs": [],
   "source": []
  }
 ],
 "metadata": {
  "kernelspec": {
   "display_name": "course-ia",
   "language": "python",
   "name": "python3"
  },
  "language_info": {
   "codemirror_mode": {
    "name": "ipython",
    "version": 3
   },
   "file_extension": ".py",
   "mimetype": "text/x-python",
   "name": "python",
   "nbconvert_exporter": "python",
   "pygments_lexer": "ipython3",
   "version": "3.11.0"
  }
 },
 "nbformat": 4,
 "nbformat_minor": 2
}
